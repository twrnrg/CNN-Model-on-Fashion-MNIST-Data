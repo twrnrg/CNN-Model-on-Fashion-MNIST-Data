{
  "nbformat": 4,
  "nbformat_minor": 0,
  "metadata": {
    "colab": {
      "name": "CNN The Fashion-MNIST Data Set.ipynb",
      "version": "0.3.2",
      "provenance": [],
      "collapsed_sections": []
    },
    "language_info": {
      "codemirror_mode": {
        "name": "ipython",
        "version": 3
      },
      "file_extension": ".py",
      "mimetype": "text/x-python",
      "name": "python",
      "nbconvert_exporter": "python",
      "pygments_lexer": "ipython3",
      "version": "3.7.3"
    },
    "kernelspec": {
      "name": "python3",
      "display_name": "Python 3"
    },
    "accelerator": "GPU"
  },
  "cells": [
    {
      "cell_type": "code",
      "metadata": {
        "id": "uwBZ-wMZLLSe",
        "colab_type": "code",
        "colab": {
          "base_uri": "https://localhost:8080/",
          "height": 170
        },
        "outputId": "041495c2-8b29-4e73-9c8a-9201201d625d"
      },
      "source": [
        "from keras.datasets import fashion_mnist\n",
        "(train_x, train_y), (test_x, text_y) = fashion_mnist.load_data()\n",
        "import warnings\n",
        "warnings.filterwarnings('ignore')"
      ],
      "execution_count": 1,
      "outputs": [
        {
          "output_type": "stream",
          "text": [
            "Using TensorFlow backend.\n"
          ],
          "name": "stderr"
        },
        {
          "output_type": "stream",
          "text": [
            "Downloading data from http://fashion-mnist.s3-website.eu-central-1.amazonaws.com/train-labels-idx1-ubyte.gz\n",
            "32768/29515 [=================================] - 0s 3us/step\n",
            "Downloading data from http://fashion-mnist.s3-website.eu-central-1.amazonaws.com/train-images-idx3-ubyte.gz\n",
            "26427392/26421880 [==============================] - 2s 0us/step\n",
            "Downloading data from http://fashion-mnist.s3-website.eu-central-1.amazonaws.com/t10k-labels-idx1-ubyte.gz\n",
            "8192/5148 [===============================================] - 0s 0us/step\n",
            "Downloading data from http://fashion-mnist.s3-website.eu-central-1.amazonaws.com/t10k-images-idx3-ubyte.gz\n",
            "4423680/4422102 [==============================] - 4s 1us/step\n"
          ],
          "name": "stdout"
        }
      ]
    },
    {
      "cell_type": "code",
      "metadata": {
        "id": "2UQ0wvyOLLSp",
        "colab_type": "code",
        "colab": {}
      },
      "source": [
        "import numpy as np\n",
        "from keras.utils import to_categorical\n",
        "import matplotlib.pyplot as plt\n",
        "%matplotlib inline\n",
        "test_y=text_y"
      ],
      "execution_count": 0,
      "outputs": []
    },
    {
      "cell_type": "code",
      "metadata": {
        "id": "w5tlbq_nLLSx",
        "colab_type": "code",
        "colab": {
          "base_uri": "https://localhost:8080/",
          "height": 51
        },
        "outputId": "33229f58-ac73-466d-b802-3af18a83dad3"
      },
      "source": [
        "print(\"Training data size\", train_x.shape, train_y.shape)\n",
        "print(\"Test data size\", test_x.shape, test_y.shape)"
      ],
      "execution_count": 3,
      "outputs": [
        {
          "output_type": "stream",
          "text": [
            "Training data size (60000, 28, 28) (60000,)\n",
            "Test data size (10000, 28, 28) (10000,)\n"
          ],
          "name": "stdout"
        }
      ]
    },
    {
      "cell_type": "code",
      "metadata": {
        "id": "_kTp4hTCLLS1",
        "colab_type": "code",
        "colab": {
          "base_uri": "https://localhost:8080/",
          "height": 51
        },
        "outputId": "46c0ddbe-46ff-4617-803c-991e844f7d35"
      },
      "source": [
        "#Find unique numbers from train lables\n",
        "classes = np.unique(train_y)\n",
        "nclasses=len(classes)\n",
        "print('Total number of outputs: ', nclasses)\n",
        "print('Output classes', classes)"
      ],
      "execution_count": 4,
      "outputs": [
        {
          "output_type": "stream",
          "text": [
            "Total number of outputs:  10\n",
            "Output classes [0 1 2 3 4 5 6 7 8 9]\n"
          ],
          "name": "stdout"
        }
      ]
    },
    {
      "cell_type": "code",
      "metadata": {
        "scrolled": true,
        "id": "p8z7AJhrLLS6",
        "colab_type": "code",
        "colab": {
          "base_uri": "https://localhost:8080/",
          "height": 335
        },
        "outputId": "11f82063-a4b5-4db1-c591-40fdb6cafb2d"
      },
      "source": [
        "plt.figure(figsize=[10,10])\n",
        "#display the first image in training data\n",
        "plt.subplot(121)\n",
        "plt.imshow(train_x[0,:,:], cmap='gray')\n",
        "plt.title(\"Ground Truth : {}\".format(train_y[0]))\n",
        "\n",
        "#Display the first image in testing data\n",
        "plt.subplot(122)\n",
        "plt.imshow(test_x[0,:,:], cmap='gray')\n",
        "plt.title(\"Ground Truth :{}\".format(test_y[0]))\n",
        "\n"
      ],
      "execution_count": 5,
      "outputs": [
        {
          "output_type": "execute_result",
          "data": {
            "text/plain": [
              "Text(0.5, 1.0, 'Ground Truth :9')"
            ]
          },
          "metadata": {
            "tags": []
          },
          "execution_count": 5
        },
        {
          "output_type": "display_data",
          "data": {
            "image/png": "[encoded data removed]",
            "text/plain": [
              "<Figure size 720x720 with 2 Axes>"
            ]
          },
          "metadata": {
            "tags": []
          }
        }
      ]
    },
    {
      "cell_type": "markdown",
      "metadata": {
        "id": "wqBTlgWrLLS_",
        "colab_type": "text"
      },
      "source": [
        "# Preprocessing data"
      ]
    },
    {
      "cell_type": "code",
      "metadata": {
        "id": "EsI2P2KFLLTA",
        "colab_type": "code",
        "colab": {
          "base_uri": "https://localhost:8080/",
          "height": 34
        },
        "outputId": "9908127e-f07b-4fb3-de4a-e2b2796f4486"
      },
      "source": [
        "#convert each 28*28 image of the data to a 3 D matrix of size 28*28*1 before feeding into network\n",
        "train_x = train_x.reshape(-1, 28, 28, 1)\n",
        "test_x = test_x.reshape(-1, 28, 28, 1)\n",
        "train_x.shape, train_x.shape\n"
      ],
      "execution_count": 6,
      "outputs": [
        {
          "output_type": "execute_result",
          "data": {
            "text/plain": [
              "((60000, 28, 28, 1), (60000, 28, 28, 1))"
            ]
          },
          "metadata": {
            "tags": []
          },
          "execution_count": 6
        }
      ]
    },
    {
      "cell_type": "code",
      "metadata": {
        "id": "YlNAXCH_LLTH",
        "colab_type": "code",
        "colab": {}
      },
      "source": [
        "#data is in int 8 format, so change it to float32 before feeding into the network\n",
        "#rescale the pixel values (in range 0 to 1)\n",
        "train_x = train_x.astype('float32')\n",
        "test_x = test_x.astype('float32')\n",
        "train_x = train_x/255.\n",
        "test_x = test_x/255."
      ],
      "execution_count": 0,
      "outputs": []
    },
    {
      "cell_type": "code",
      "metadata": {
        "scrolled": true,
        "id": "FaF4hC64LLTK",
        "colab_type": "code",
        "colab": {
          "base_uri": "https://localhost:8080/",
          "height": 51
        },
        "outputId": "a144eb12-4519-40e5-d207-8a1cee504f41"
      },
      "source": [
        "#convert class labels into one hot encoding vectors\n",
        "train_y_one_hot = to_categorical(train_y)\n",
        "test_y_one_hot = to_categorical(test_y)\n",
        "\n",
        "print( \"Orignal label {}\".format(train_y[0]) )\n",
        "print(\"modified label {}\".format(train_y_one_hot[0]))"
      ],
      "execution_count": 8,
      "outputs": [
        {
          "output_type": "stream",
          "text": [
            "Orignal label 9\n",
            "modified label [0. 0. 0. 0. 0. 0. 0. 0. 0. 1.]\n"
          ],
          "name": "stdout"
        }
      ]
    },
    {
      "cell_type": "code",
      "metadata": {
        "id": "bV1K5TlhLLTN",
        "colab_type": "code",
        "colab": {
          "base_uri": "https://localhost:8080/",
          "height": 34
        },
        "outputId": "56697f45-b83c-4dc6-b5b2-1d7ee8dd5b56"
      },
      "source": [
        "from sklearn.model_selection import train_test_split\n",
        "train_x, valid_x, train_label, valid_label = train_test_split(train_x, train_y_one_hot, test_size=0.2, random_state=13)\n",
        "\n",
        "train_x.shape, valid_x.shape, train_label.shape ,valid_label.shape"
      ],
      "execution_count": 9,
      "outputs": [
        {
          "output_type": "execute_result",
          "data": {
            "text/plain": [
              "((48000, 28, 28, 1), (12000, 28, 28, 1), (48000, 10), (12000, 10))"
            ]
          },
          "metadata": {
            "tags": []
          },
          "execution_count": 9
        }
      ]
    },
    {
      "cell_type": "markdown",
      "metadata": {
        "id": "5mOzhIlHLLTR",
        "colab_type": "text"
      },
      "source": [
        "# The Network"
      ]
    },
    {
      "cell_type": "markdown",
      "metadata": {
        "id": "XoNgGAQrLLTS",
        "colab_type": "text"
      },
      "source": [
        "##### Architecture of Model\n",
        "###### Using three convolution layer\n",
        "###### The first layer will have 32 - 3*3 filters\n",
        "###### The second layer will have 64 - 3*3 filters\n",
        "###### The third layer will have 128 - 3*3 filters\n",
        "###### In addition , there are three maxpooling layers of 2*2\n"
      ]
    },
    {
      "cell_type": "code",
      "metadata": {
        "id": "jQ56ogBWLLTT",
        "colab_type": "code",
        "colab": {}
      },
      "source": [
        "import keras\n",
        "from keras.models import Sequential, Input, Model\n",
        "from keras.layers import Dense, Dropout, Flatten\n",
        "from keras.layers import Conv2D, MaxPooling2D\n",
        "from keras.layers.normalization import BatchNormalization\n",
        "from keras.layers.advanced_activations import LeakyReLU"
      ],
      "execution_count": 0,
      "outputs": []
    },
    {
      "cell_type": "code",
      "metadata": {
        "id": "OV7as2clLLTV",
        "colab_type": "code",
        "colab": {}
      },
      "source": [
        "batch_size = 64\n",
        "epochs = 20\n",
        "num_classes = 10"
      ],
      "execution_count": 0,
      "outputs": []
    },
    {
      "cell_type": "markdown",
      "metadata": {
        "id": "R2Ub0i--LLTW",
        "colab_type": "raw"
      },
      "source": [
        "In Keras, you can just stack up layers by adding the desired layer one by one\n",
        "Add first convolutional layer witch Conv2D() because of images\n",
        "Leaky ReLU has been dded as activation because of non linear decision boundary \n",
        "Add maxpooling layer using MaxPooling2D()\n",
        "Last layer is a Dense Layer that has a softmax activation function with 10 units for this multi-classfication task\n"
      ]
    },
    {
      "cell_type": "code",
      "metadata": {
        "id": "K4onpKrYLLTX",
        "colab_type": "code",
        "colab": {
          "base_uri": "https://localhost:8080/",
          "height": 108
        },
        "outputId": "b6c1bb42-356a-4eed-9a82-426feb529d2f"
      },
      "source": [
        "fashion_model = Sequential()\n",
        "fashion_model.add(Conv2D(32, kernel_size = (3, 3), activation = 'linear', input_shape = (28,28,1), padding = 'same' ))\n",
        "fashion_model.add(LeakyReLU(alpha = 0.1))\n",
        "fashion_model.add(MaxPooling2D((2,2), padding = 'same'))\n",
        "fashion_model.add(Conv2D (64, kernel_size = (3, 3), activation = 'linear', padding = 'same'))\n",
        "fashion_model.add(LeakyReLU(alpha = 0.1))\n",
        "fashion_model.add(MaxPooling2D(pool_size = (2,2), padding = 'same'))\n",
        "fashion_model.add(Conv2D(128, kernel_size = (3,3), activation = 'linear', padding = 'same'))\n",
        "fashion_model.add(LeakyReLU(alpha = 0.1))\n",
        "fashion_model.add(MaxPooling2D(pool_size = (2,2), padding = 'same'))\n",
        "fashion_model.add(Flatten())\n",
        "fashion_model.add(Dense(128, activation = 'linear'))\n",
        "fashion_model.add(LeakyReLU(alpha = 0.1))\n",
        "fashion_model.add(Dense(num_classes, activation = 'softmax'))\n"
      ],
      "execution_count": 12,
      "outputs": [
        {
          "output_type": "stream",
          "text": [
            "WARNING:tensorflow:From /usr/local/lib/python3.6/dist-packages/tensorflow/python/framework/op_def_library.py:263: colocate_with (from tensorflow.python.framework.ops) is deprecated and will be removed in a future version.\n",
            "Instructions for updating:\n",
            "Colocations handled automatically by placer.\n"
          ],
          "name": "stdout"
        }
      ]
    },
    {
      "cell_type": "markdown",
      "metadata": {
        "id": "rcPv_5fxLLTY",
        "colab_type": "text"
      },
      "source": [
        "###### Compile using Adam optimizer"
      ]
    },
    {
      "cell_type": "code",
      "metadata": {
        "id": "XpErbHlhLLTY",
        "colab_type": "code",
        "colab": {}
      },
      "source": [
        "fashion_model.compile(loss=keras.losses.categorical_crossentropy, optimizer=keras.optimizers.Adam(), metrics=['accuracy'])"
      ],
      "execution_count": 0,
      "outputs": []
    },
    {
      "cell_type": "code",
      "metadata": {
        "id": "iL9rpSyiLLTa",
        "colab_type": "code",
        "colab": {
          "base_uri": "https://localhost:8080/",
          "height": 578
        },
        "outputId": "0535afda-7b43-4a57-ab98-c2dc004b7ea2"
      },
      "source": [
        "fashion_model.summary()"
      ],
      "execution_count": 14,
      "outputs": [
        {
          "output_type": "stream",
          "text": [
            "_________________________________________________________________\n",
            "Layer (type)                 Output Shape              Param #   \n",
            "=================================================================\n",
            "conv2d_1 (Conv2D)            (None, 28, 28, 32)        320       \n",
            "_________________________________________________________________\n",
            "leaky_re_lu_1 (LeakyReLU)    (None, 28, 28, 32)        0         \n",
            "_________________________________________________________________\n",
            "max_pooling2d_1 (MaxPooling2 (None, 14, 14, 32)        0         \n",
            "_________________________________________________________________\n",
            "conv2d_2 (Conv2D)            (None, 14, 14, 64)        18496     \n",
            "_________________________________________________________________\n",
            "leaky_re_lu_2 (LeakyReLU)    (None, 14, 14, 64)        0         \n",
            "_________________________________________________________________\n",
            "max_pooling2d_2 (MaxPooling2 (None, 7, 7, 64)          0         \n",
            "_________________________________________________________________\n",
            "conv2d_3 (Conv2D)            (None, 7, 7, 128)         73856     \n",
            "_________________________________________________________________\n",
            "leaky_re_lu_3 (LeakyReLU)    (None, 7, 7, 128)         0         \n",
            "_________________________________________________________________\n",
            "max_pooling2d_3 (MaxPooling2 (None, 4, 4, 128)         0         \n",
            "_________________________________________________________________\n",
            "flatten_1 (Flatten)          (None, 2048)              0         \n",
            "_________________________________________________________________\n",
            "dense_1 (Dense)              (None, 128)               262272    \n",
            "_________________________________________________________________\n",
            "leaky_re_lu_4 (LeakyReLU)    (None, 128)               0         \n",
            "_________________________________________________________________\n",
            "dense_2 (Dense)              (None, 10)                1290      \n",
            "=================================================================\n",
            "Total params: 356,234\n",
            "Trainable params: 356,234\n",
            "Non-trainable params: 0\n",
            "_________________________________________________________________\n"
          ],
          "name": "stdout"
        }
      ]
    },
    {
      "cell_type": "code",
      "metadata": {
        "scrolled": true,
        "id": "vdyiENdaLLTd",
        "colab_type": "code",
        "colab": {
          "base_uri": "https://localhost:8080/",
          "height": 1020
        },
        "outputId": "ab5290b3-0e5f-4f90-822e-33e7bea175b3"
      },
      "source": [
        "# Training model using keras.fit() function. Model will train for 20 epochs.\n",
        "# .fit() function will return a history object which can be used later to polt accuracy and loss function\n",
        "\n",
        "fashion_train = fashion_model.fit(train_x, train_label, batch_size = batch_size, epochs = epochs, verbose=1, validation_data=(valid_x, valid_label))"
      ],
      "execution_count": 15,
      "outputs": [
        {
          "output_type": "stream",
          "text": [
            "WARNING:tensorflow:From /usr/local/lib/python3.6/dist-packages/tensorflow/python/ops/math_ops.py:3066: to_int32 (from tensorflow.python.ops.math_ops) is deprecated and will be removed in a future version.\n",
            "Instructions for updating:\n",
            "Use tf.cast instead.\n",
            "Train on 48000 samples, validate on 12000 samples\n",
            "Epoch 1/20\n",
            "48000/48000 [==============================] - 10s 211us/step - loss: 0.4679 - acc: 0.8304 - val_loss: 0.3420 - val_acc: 0.8759\n",
            "Epoch 2/20\n",
            "48000/48000 [==============================] - 4s 94us/step - loss: 0.2882 - acc: 0.8956 - val_loss: 0.2824 - val_acc: 0.8972\n",
            "Epoch 3/20\n",
            "48000/48000 [==============================] - 4s 91us/step - loss: 0.2420 - acc: 0.9113 - val_loss: 0.2472 - val_acc: 0.9116\n",
            "Epoch 4/20\n",
            "48000/48000 [==============================] - 4s 93us/step - loss: 0.2058 - acc: 0.9248 - val_loss: 0.2422 - val_acc: 0.9146\n",
            "Epoch 5/20\n",
            "48000/48000 [==============================] - 5s 94us/step - loss: 0.1811 - acc: 0.9338 - val_loss: 0.2319 - val_acc: 0.9143\n",
            "Epoch 6/20\n",
            "48000/48000 [==============================] - 4s 92us/step - loss: 0.1588 - acc: 0.9408 - val_loss: 0.2341 - val_acc: 0.9196\n",
            "Epoch 7/20\n",
            "48000/48000 [==============================] - 4s 93us/step - loss: 0.1393 - acc: 0.9474 - val_loss: 0.2275 - val_acc: 0.9193\n",
            "Epoch 8/20\n",
            "48000/48000 [==============================] - 4s 92us/step - loss: 0.1177 - acc: 0.9556 - val_loss: 0.2333 - val_acc: 0.9221\n",
            "Epoch 9/20\n",
            "48000/48000 [==============================] - 4s 92us/step - loss: 0.1028 - acc: 0.9616 - val_loss: 0.2497 - val_acc: 0.9208\n",
            "Epoch 10/20\n",
            "48000/48000 [==============================] - 4s 92us/step - loss: 0.0833 - acc: 0.9684 - val_loss: 0.2767 - val_acc: 0.9189\n",
            "Epoch 11/20\n",
            "48000/48000 [==============================] - 4s 93us/step - loss: 0.0749 - acc: 0.9713 - val_loss: 0.2847 - val_acc: 0.9200\n",
            "Epoch 12/20\n",
            "48000/48000 [==============================] - 5s 94us/step - loss: 0.0626 - acc: 0.9768 - val_loss: 0.2884 - val_acc: 0.9190\n",
            "Epoch 13/20\n",
            "48000/48000 [==============================] - 4s 93us/step - loss: 0.0537 - acc: 0.9791 - val_loss: 0.3289 - val_acc: 0.9227\n",
            "Epoch 14/20\n",
            "48000/48000 [==============================] - 4s 93us/step - loss: 0.0488 - acc: 0.9816 - val_loss: 0.3539 - val_acc: 0.9208\n",
            "Epoch 15/20\n",
            "48000/48000 [==============================] - 4s 92us/step - loss: 0.0409 - acc: 0.9843 - val_loss: 0.3839 - val_acc: 0.9199\n",
            "Epoch 16/20\n",
            "48000/48000 [==============================] - 5s 94us/step - loss: 0.0371 - acc: 0.9861 - val_loss: 0.3626 - val_acc: 0.9248\n",
            "Epoch 17/20\n",
            "48000/48000 [==============================] - 5s 96us/step - loss: 0.0362 - acc: 0.9867 - val_loss: 0.3836 - val_acc: 0.9204\n",
            "Epoch 18/20\n",
            "48000/48000 [==============================] - 5s 97us/step - loss: 0.0329 - acc: 0.9879 - val_loss: 0.3959 - val_acc: 0.9240\n",
            "Epoch 19/20\n",
            "48000/48000 [==============================] - 4s 92us/step - loss: 0.0284 - acc: 0.9899 - val_loss: 0.4279 - val_acc: 0.9207\n",
            "Epoch 20/20\n",
            "48000/48000 [==============================] - 4s 91us/step - loss: 0.0300 - acc: 0.9890 - val_loss: 0.4111 - val_acc: 0.9181\n"
          ],
          "name": "stdout"
        }
      ]
    },
    {
      "cell_type": "code",
      "metadata": {
        "id": "e29Ml1mULLTf",
        "colab_type": "code",
        "colab": {}
      },
      "source": [
        "# save this model\n",
        "fashion_model.save(\"fashion_cnn_model.h5py\")"
      ],
      "execution_count": 0,
      "outputs": []
    },
    {
      "cell_type": "code",
      "metadata": {
        "scrolled": true,
        "id": "YNEiBib5LLTi",
        "colab_type": "code",
        "colab": {
          "base_uri": "https://localhost:8080/",
          "height": 51
        },
        "outputId": "415328f0-49a2-4941-e037-c271c77c35dd"
      },
      "source": [
        "test_eval = fashion_model.evaluate(test_x, test_y_one_hot, verbose=0)\n",
        "print(\"Test loss: {}\".format(test_eval[0]))\n",
        "print(\"Test Accuracy: {}\".format(test_eval[1]))"
      ],
      "execution_count": 17,
      "outputs": [
        {
          "output_type": "stream",
          "text": [
            "Test loss: 0.4442824930947274\n",
            "Test Accuracy: 0.9115\n"
          ],
          "name": "stdout"
        }
      ]
    },
    {
      "cell_type": "code",
      "metadata": {
        "id": "-0NrGyxzLLTk",
        "colab_type": "code",
        "colab": {
          "base_uri": "https://localhost:8080/",
          "height": 545
        },
        "outputId": "c35d073c-5339-43bb-a6a6-21cfbd7fe1ec"
      },
      "source": [
        "accuracy = fashion_train.history['acc']\n",
        "val_accuracy = fashion_train.history['val_acc']\n",
        "loss = fashion_train.history['loss']\n",
        "val_loss = fashion_train.history['val_loss']\n",
        "epochs = range(len(accuracy))\n",
        "\n",
        "plt.plot(epochs, accuracy, 'bo', label = 'Training Accuracy')\n",
        "plt.plot(epochs, val_accuracy, 'b', label = 'Validation Accuracy')\n",
        "plt.title('Training and Validation Accuracy')\n",
        "plt.legend()\n",
        "plt.figure()\n",
        "plt.plot(epochs, loss, 'bo', label = 'Training Loss')\n",
        "plt.plot(epochs, val_loss, 'b', label = 'Validation Loss')\n",
        "plt.title(' Training and Validation Loss')\n",
        "plt.legend()\n",
        "plt.show()"
      ],
      "execution_count": 18,
      "outputs": [
        {
          "output_type": "display_data",
          "data": {
            "image/png": "[encoded data removed]",
            "text/plain": [
              "<Figure size 432x288 with 1 Axes>"
            ]
          },
          "metadata": {
            "tags": []
          }
        },
        {
          "output_type": "display_data",
          "data": {
            "image/png": "[encoded data removed]",
            "text/plain": [
              "<Figure size 432x288 with 1 Axes>"
            ]
          },
          "metadata": {
            "tags": []
          }
        }
      ]
    },
    {
      "cell_type": "markdown",
      "metadata": {
        "id": "Z43HAvLgLLTl",
        "colab_type": "raw"
      },
      "source": [
        "From the above two plots we can see that validation accuracy becomes stagnant after 4-5 epochs. Case of Overfitting. "
      ]
    },
    {
      "cell_type": "markdown",
      "metadata": {
        "id": "mD0WvpqZLLTl",
        "colab_type": "text"
      },
      "source": [
        "#### Adding DropOut in the Network"
      ]
    },
    {
      "cell_type": "markdown",
      "metadata": {
        "id": "n2fspaWqLLTm",
        "colab_type": "raw"
      },
      "source": [
        "Dropdown randomly turns off a fraction of neurons during the training process reducing the dependency on the training set. How many fraction of neurons to turn off can be tuned using a hyperparameter. This way, turing off some neurons will not allow the network to memorize the training data"
      ]
    },
    {
      "cell_type": "code",
      "metadata": {
        "id": "Ybc33SI_LLTm",
        "colab_type": "code",
        "colab": {}
      },
      "source": [
        ""
      ],
      "execution_count": 0,
      "outputs": []
    },
    {
      "cell_type": "code",
      "metadata": {
        "id": "bcVmsofyLLTn",
        "colab_type": "code",
        "colab": {
          "base_uri": "https://localhost:8080/",
          "height": 785
        },
        "outputId": "9efb3fbd-a81e-48ba-c1ec-d7c0b44c5867"
      },
      "source": [
        "batch_size = 64\n",
        "epochs = 20\n",
        "num_classes = 10\n",
        "\n",
        "fashion_model = Sequential()\n",
        "fashion_model.add(Conv2D(32, kernel_size = (3,3), activation = 'linear', padding = 'same', input_shape = (28,28,1)))\n",
        "fashion_model.add(LeakyReLU(alpha = 0.1))\n",
        "fashion_model.add(MaxPooling2D((2,2), padding = 'same'))\n",
        "# import pdb; pdb.set_trace()\n",
        "fashion_model.add(Dropout(.25))\n",
        "fashion_model.add(Conv2D(64, (3,3), activation = 'linear', padding = 'same'))\n",
        "fashion_model.add(LeakyReLU(alpha = 0.1))\n",
        "fashion_model.add(MaxPooling2D((2,2), padding = 'same'))\n",
        "fashion_model.add(Dropout(0.25))\n",
        "fashion_model.add(Conv2D(128, (3,3), activation = 'linear', padding = 'same'))\n",
        "fashion_model.add(LeakyReLU(alpha = 0.1))\n",
        "fashion_model.add(MaxPooling2D((2,2), padding = 'same'))\n",
        "fashion_model.add(Dropout(0.4))\n",
        "fashion_model.add(Flatten())\n",
        "fashion_model.add(Dense(128, activation = 'linear'))\n",
        "fashion_model.add(LeakyReLU(alpha = 0.1))\n",
        "fashion_model.add(Dropout(0.3))\n",
        "fashion_model.add(Dense(num_classes, activation = 'softmax'))\n",
        "\n",
        "fashion_model.summary()"
      ],
      "execution_count": 19,
      "outputs": [
        {
          "output_type": "stream",
          "text": [
            "WARNING:tensorflow:From /usr/local/lib/python3.6/dist-packages/keras/backend/tensorflow_backend.py:3445: calling dropout (from tensorflow.python.ops.nn_ops) with keep_prob is deprecated and will be removed in a future version.\n",
            "Instructions for updating:\n",
            "Please use `rate` instead of `keep_prob`. Rate should be set to `rate = 1 - keep_prob`.\n",
            "_________________________________________________________________\n",
            "Layer (type)                 Output Shape              Param #   \n",
            "=================================================================\n",
            "conv2d_4 (Conv2D)            (None, 28, 28, 32)        320       \n",
            "_________________________________________________________________\n",
            "leaky_re_lu_5 (LeakyReLU)    (None, 28, 28, 32)        0         \n",
            "_________________________________________________________________\n",
            "max_pooling2d_4 (MaxPooling2 (None, 14, 14, 32)        0         \n",
            "_________________________________________________________________\n",
            "dropout_1 (Dropout)          (None, 14, 14, 32)        0         \n",
            "_________________________________________________________________\n",
            "conv2d_5 (Conv2D)            (None, 14, 14, 64)        18496     \n",
            "_________________________________________________________________\n",
            "leaky_re_lu_6 (LeakyReLU)    (None, 14, 14, 64)        0         \n",
            "_________________________________________________________________\n",
            "max_pooling2d_5 (MaxPooling2 (None, 7, 7, 64)          0         \n",
            "_________________________________________________________________\n",
            "dropout_2 (Dropout)          (None, 7, 7, 64)          0         \n",
            "_________________________________________________________________\n",
            "conv2d_6 (Conv2D)            (None, 7, 7, 128)         73856     \n",
            "_________________________________________________________________\n",
            "leaky_re_lu_7 (LeakyReLU)    (None, 7, 7, 128)         0         \n",
            "_________________________________________________________________\n",
            "max_pooling2d_6 (MaxPooling2 (None, 4, 4, 128)         0         \n",
            "_________________________________________________________________\n",
            "dropout_3 (Dropout)          (None, 4, 4, 128)         0         \n",
            "_________________________________________________________________\n",
            "flatten_2 (Flatten)          (None, 2048)              0         \n",
            "_________________________________________________________________\n",
            "dense_3 (Dense)              (None, 128)               262272    \n",
            "_________________________________________________________________\n",
            "leaky_re_lu_8 (LeakyReLU)    (None, 128)               0         \n",
            "_________________________________________________________________\n",
            "dropout_4 (Dropout)          (None, 128)               0         \n",
            "_________________________________________________________________\n",
            "dense_4 (Dense)              (None, 10)                1290      \n",
            "=================================================================\n",
            "Total params: 356,234\n",
            "Trainable params: 356,234\n",
            "Non-trainable params: 0\n",
            "_________________________________________________________________\n"
          ],
          "name": "stdout"
        }
      ]
    },
    {
      "cell_type": "code",
      "metadata": {
        "id": "sb050pWTLLTp",
        "colab_type": "code",
        "colab": {
          "base_uri": "https://localhost:8080/",
          "height": 714
        },
        "outputId": "cb91e5e3-70a5-4e83-d0f3-f19eed796048"
      },
      "source": [
        "fashion_model.compile(loss = keras.losses.categorical_crossentropy, optimizer = keras.optimizers.Adam(), metrics=['accuracy'])\n",
        "fashion_train_dropout = fashion_model.fit(train_x, train_label, batch_size=batch_size, epochs=epochs, verbose = 1, validation_data = (valid_x, valid_label))"
      ],
      "execution_count": 21,
      "outputs": [
        {
          "output_type": "stream",
          "text": [
            "Train on 48000 samples, validate on 12000 samples\n",
            "Epoch 1/20\n",
            "48000/48000 [==============================] - 5s 114us/step - loss: 0.6025 - acc: 0.7751 - val_loss: 0.3729 - val_acc: 0.8639\n",
            "Epoch 2/20\n",
            "48000/48000 [==============================] - 5s 104us/step - loss: 0.3789 - acc: 0.8609 - val_loss: 0.3015 - val_acc: 0.8889\n",
            "Epoch 3/20\n",
            "48000/48000 [==============================] - 5s 104us/step - loss: 0.3304 - acc: 0.8776 - val_loss: 0.2793 - val_acc: 0.8981\n",
            "Epoch 4/20\n",
            "48000/48000 [==============================] - 5s 104us/step - loss: 0.3021 - acc: 0.8884 - val_loss: 0.2654 - val_acc: 0.8983\n",
            "Epoch 5/20\n",
            "48000/48000 [==============================] - 5s 104us/step - loss: 0.2851 - acc: 0.8930 - val_loss: 0.2531 - val_acc: 0.9078\n",
            "Epoch 6/20\n",
            "48000/48000 [==============================] - 5s 105us/step - loss: 0.2723 - acc: 0.8986 - val_loss: 0.2452 - val_acc: 0.9079\n",
            "Epoch 7/20\n",
            "48000/48000 [==============================] - 5s 105us/step - loss: 0.2566 - acc: 0.9035 - val_loss: 0.2373 - val_acc: 0.9130\n",
            "Epoch 8/20\n",
            "48000/48000 [==============================] - 5s 104us/step - loss: 0.2537 - acc: 0.9054 - val_loss: 0.2355 - val_acc: 0.9119\n",
            "Epoch 9/20\n",
            "48000/48000 [==============================] - 5s 104us/step - loss: 0.2386 - acc: 0.9101 - val_loss: 0.2363 - val_acc: 0.9119\n",
            "Epoch 10/20\n",
            "48000/48000 [==============================] - 5s 105us/step - loss: 0.2347 - acc: 0.9125 - val_loss: 0.2213 - val_acc: 0.9180\n",
            "Epoch 11/20\n",
            "48000/48000 [==============================] - 5s 105us/step - loss: 0.2286 - acc: 0.9146 - val_loss: 0.2254 - val_acc: 0.9173\n",
            "Epoch 12/20\n",
            "48000/48000 [==============================] - 5s 103us/step - loss: 0.2245 - acc: 0.9155 - val_loss: 0.2208 - val_acc: 0.9198\n",
            "Epoch 13/20\n",
            "48000/48000 [==============================] - 5s 103us/step - loss: 0.2213 - acc: 0.9162 - val_loss: 0.2265 - val_acc: 0.9228\n",
            "Epoch 14/20\n",
            "48000/48000 [==============================] - 5s 103us/step - loss: 0.2183 - acc: 0.9177 - val_loss: 0.2177 - val_acc: 0.9174\n",
            "Epoch 15/20\n",
            "48000/48000 [==============================] - 5s 104us/step - loss: 0.2093 - acc: 0.9212 - val_loss: 0.2099 - val_acc: 0.9263\n",
            "Epoch 16/20\n",
            "48000/48000 [==============================] - 5s 104us/step - loss: 0.2095 - acc: 0.9210 - val_loss: 0.2091 - val_acc: 0.9247\n",
            "Epoch 17/20\n",
            "48000/48000 [==============================] - 5s 103us/step - loss: 0.2071 - acc: 0.9210 - val_loss: 0.2250 - val_acc: 0.9212\n",
            "Epoch 18/20\n",
            "48000/48000 [==============================] - 5s 103us/step - loss: 0.2027 - acc: 0.9231 - val_loss: 0.2157 - val_acc: 0.9219\n",
            "Epoch 19/20\n",
            "48000/48000 [==============================] - 5s 103us/step - loss: 0.1975 - acc: 0.9250 - val_loss: 0.2108 - val_acc: 0.9231\n",
            "Epoch 20/20\n",
            "48000/48000 [==============================] - 5s 103us/step - loss: 0.1982 - acc: 0.9249 - val_loss: 0.2176 - val_acc: 0.9230\n"
          ],
          "name": "stdout"
        }
      ]
    },
    {
      "cell_type": "code",
      "metadata": {
        "id": "ORzIRf6mLLTq",
        "colab_type": "code",
        "colab": {}
      },
      "source": [
        "fashion_model.save(\"fashion_model_dropout.h5py\")"
      ],
      "execution_count": 0,
      "outputs": []
    },
    {
      "cell_type": "code",
      "metadata": {
        "id": "SpY1jKaHLLTr",
        "colab_type": "code",
        "colab": {
          "base_uri": "https://localhost:8080/",
          "height": 34
        },
        "outputId": "e0ada6d2-f951-4467-e5ee-44b9a3cb9dd9"
      },
      "source": [
        "test_eval = fashion_model.evaluate(test_x, test_y_one_hot, verbose = 1)"
      ],
      "execution_count": 23,
      "outputs": [
        {
          "output_type": "stream",
          "text": [
            "10000/10000 [==============================] - 1s 63us/step\n"
          ],
          "name": "stdout"
        }
      ]
    },
    {
      "cell_type": "code",
      "metadata": {
        "id": "1-DJfx-YLLTt",
        "colab_type": "code",
        "colab": {
          "base_uri": "https://localhost:8080/",
          "height": 51
        },
        "outputId": "abce0e6f-f038-48d2-e05a-e7d5cbae2ce7"
      },
      "source": [
        "print(\"Test loss:\", test_eval[0])\n",
        "print(\"Test Accuracy: \", test_eval[1])"
      ],
      "execution_count": 24,
      "outputs": [
        {
          "output_type": "stream",
          "text": [
            "Test loss: 0.22297314703464508\n",
            "Test Accuracy:  0.9202\n"
          ],
          "name": "stdout"
        }
      ]
    },
    {
      "cell_type": "code",
      "metadata": {
        "id": "dtsrdh6LLLTu",
        "colab_type": "code",
        "colab": {
          "base_uri": "https://localhost:8080/",
          "height": 562
        },
        "outputId": "12ddb786-842c-4b95-a187-37483ec9bd85"
      },
      "source": [
        "#test loss has been significantly reduced.\n",
        "#Plotting accuracy and loss plots between training and validaton data\n",
        "\n",
        "accuracy = fashion_train_dropout.history['acc']\n",
        "val_accuracy = fashion_train_dropout.history['val_acc']\n",
        "loss = fashion_train_dropout.history['loss']\n",
        "val_loss = fashion_train_dropout.history['val_loss']\n",
        "epochs=range(len(accuracy))\n",
        "\n",
        "plt.plot(epochs, accuracy, 'bo', label = 'Training Accuracy')\n",
        "plt.plot(epochs, val_accuracy, 'b', label = 'Validation Accuracy')\n",
        "plt.title('Training and Validation Accuracy')\n",
        "plt.legend()\n",
        "plt.figure()\n",
        "\n",
        "plt.plot(epochs, loss, 'bo', label = 'Training loss')\n",
        "plt.plot(epochs, val_loss, 'b', label = 'Validation loss')\n",
        "plt.title(\"Training and Validation loss\")\n",
        "plt.legend()\n",
        "plt.figure()\n",
        "plt.show()"
      ],
      "execution_count": 27,
      "outputs": [
        {
          "output_type": "display_data",
          "data": {
            "image/png": "[encoded data removed]",
            "text/plain": [
              "<Figure size 432x288 with 1 Axes>"
            ]
          },
          "metadata": {
            "tags": []
          }
        },
        {
          "output_type": "display_data",
          "data": {
            "image/png": "[encoded data removed]",
            "text/plain": [
              "<Figure size 432x288 with 1 Axes>"
            ]
          },
          "metadata": {
            "tags": []
          }
        },
        {
          "output_type": "display_data",
          "data": {
            "text/plain": [
              "<Figure size 432x288 with 0 Axes>"
            ]
          },
          "metadata": {
            "tags": []
          }
        }
      ]
    },
    {
      "cell_type": "code",
      "metadata": {
        "id": "Arutkg6vLLTv",
        "colab_type": "code",
        "colab": {}
      },
      "source": [
        "# We can see that validation loss and accuracy is in sync with Training loss and accuracy. It shows that model is not overfitting\n",
        "#Predict the labels. Round of the decimal to integer valuesusing np.round(). Using argmax() to convert one hot encoding vector to classes"
      ],
      "execution_count": 0,
      "outputs": []
    },
    {
      "cell_type": "markdown",
      "metadata": {
        "id": "dX4PEOFPVS_2",
        "colab_type": "text"
      },
      "source": [
        "# Predict Lables"
      ]
    },
    {
      "cell_type": "code",
      "metadata": {
        "id": "9tYO78wELLTw",
        "colab_type": "code",
        "colab": {
          "base_uri": "https://localhost:8080/",
          "height": 34
        },
        "outputId": "0e774ba1-52a0-4d69-ec9b-3ab05973ff41"
      },
      "source": [
        "predicted_classes = fashion_model.predict(test_x)\n",
        "predicted_classes = np.argmax(np.round(predicted_classes), axis = 1)\n",
        "predicted_classes.shape, test_y.shape"
      ],
      "execution_count": 29,
      "outputs": [
        {
          "output_type": "execute_result",
          "data": {
            "text/plain": [
              "((10000,), (10000,))"
            ]
          },
          "metadata": {
            "tags": []
          },
          "execution_count": 29
        }
      ]
    },
    {
      "cell_type": "code",
      "metadata": {
        "id": "RaYX6djpLLTx",
        "colab_type": "code",
        "colab": {
          "base_uri": "https://localhost:8080/",
          "height": 298
        },
        "outputId": "ab4c4504-0be2-43b7-de8f-eaa8dcd65763"
      },
      "source": [
        "correct = np.where(predicted_classes == test_y)[0]\n",
        "print(\"Found {} correct labels\".format(len(correct)))\n",
        "for i, correct in enumerate(correct[:9]):\n",
        "    plt.subplot(3, 3, i+1)\n",
        "    plt.imshow(test_x[correct].reshape(28,28), cmap = 'gray', interpolation = 'none')\n",
        "    plt.title(\" Predicted {}, Class {}\".format(predicted_classes[correct], test_y[correct]))\n",
        "    plt.tight_layout"
      ],
      "execution_count": 34,
      "outputs": [
        {
          "output_type": "stream",
          "text": [
            "Found 9167 correct labels\n"
          ],
          "name": "stdout"
        },
        {
          "output_type": "display_data",
          "data": {
            "image/png": "[encoded data removed]",
            "text/plain": [
              "<Figure size 432x288 with 9 Axes>"
            ]
          },
          "metadata": {
            "tags": []
          }
        }
      ]
    },
    {
      "cell_type": "code",
      "metadata": {
        "id": "MqJws2sXZYCE",
        "colab_type": "code",
        "colab": {
          "base_uri": "https://localhost:8080/",
          "height": 298
        },
        "outputId": "c1be4983-6ad5-42d0-f90e-1f30b8962e0b"
      },
      "source": [
        "incorrect = np.where(predicted_classes != test_y)[0]\n",
        "print(\"Found {} incorrect labels\".format(len(incorrect)))\n",
        "for i, incorrect in enumerate(incorrect[:9]):\n",
        "    plt.subplot(3, 3, i+1)\n",
        "    plt.imshow(test_x[incorrect].reshape(28,28), cmap = 'gray', interpolation = 'none')\n",
        "    plt.title(\" Predicted {}, Class {}\".format(predicted_classes[incorrect], test_y[incorrect]))\n",
        "    plt.tight_layout\n"
      ],
      "execution_count": 35,
      "outputs": [
        {
          "output_type": "stream",
          "text": [
            "Found 833 incorrect labels\n"
          ],
          "name": "stdout"
        },
        {
          "output_type": "display_data",
          "data": {
            "image/png": "[encoded data removed]",
            "text/plain": [
              "<Figure size 432x288 with 9 Axes>"
            ]
          },
          "metadata": {
            "tags": []
          }
        }
      ]
    },
    {
      "cell_type": "markdown",
      "metadata": {
        "id": "nq3P72VDalVd",
        "colab_type": "text"
      },
      "source": [
        "# Classification Report"
      ]
    },
    {
      "cell_type": "code",
      "metadata": {
        "id": "1Cegje-Caquy",
        "colab_type": "code",
        "colab": {
          "base_uri": "https://localhost:8080/",
          "height": 306
        },
        "outputId": "71578991-f3e9-4b3c-85da-54fa7a47f8c9"
      },
      "source": [
        "from sklearn.metrics import classification_report\n",
        "target_names = [\"Class {}\".format(i) for i in range(num_classes)]\n",
        "print(classification_report(test_y, predicted_classes, target_names = target_names))"
      ],
      "execution_count": 36,
      "outputs": [
        {
          "output_type": "stream",
          "text": [
            "              precision    recall  f1-score   support\n",
            "\n",
            "     Class 0       0.79      0.91      0.85      1000\n",
            "     Class 1       0.99      0.99      0.99      1000\n",
            "     Class 2       0.84      0.91      0.87      1000\n",
            "     Class 3       0.95      0.91      0.93      1000\n",
            "     Class 4       0.87      0.84      0.86      1000\n",
            "     Class 5       0.99      0.97      0.98      1000\n",
            "     Class 6       0.83      0.70      0.76      1000\n",
            "     Class 7       0.96      0.98      0.97      1000\n",
            "     Class 8       0.99      0.98      0.99      1000\n",
            "     Class 9       0.97      0.97      0.97      1000\n",
            "\n",
            "    accuracy                           0.92     10000\n",
            "   macro avg       0.92      0.92      0.92     10000\n",
            "weighted avg       0.92      0.92      0.92     10000\n",
            "\n"
          ],
          "name": "stdout"
        }
      ]
    },
    {
      "cell_type": "code",
      "metadata": {
        "id": "6JWBdam3bWCM",
        "colab_type": "code",
        "colab": {}
      },
      "source": [
        ""
      ],
      "execution_count": 0,
      "outputs": []
    }
  ]
}